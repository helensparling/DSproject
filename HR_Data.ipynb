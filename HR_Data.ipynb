{
 "cells": [
  {
   "cell_type": "code",
   "execution_count": 1,
   "id": "28ea83f3-1b7b-4fd2-8174-84432ed699a2",
   "metadata": {},
   "outputs": [],
   "source": [
    "import pandas as pd\n",
    "\n",
    "# Common Windows encoding\n",
    "df = pd.read_csv(r\"C:\\Users\\rache\\Helen-and-Rachel-Data-Science-\\dataset.csv\", encoding=\"cp1252\")\n",
    "\n",
    "# first need to subset\n",
    "counties = [\"Los Angeles\", \"San Diego\", \"Orange\", \"Riverside\", \"San Bernardino\"]\n",
    "\n",
    "subset_df = df[df[\"County\"].isin(counties)]\n",
    "\n",
    "# get rid of the 30-day (done)\n",
    "# remove location column (done)\n",
    "# print unique types in hospital rating and see how many unique types, convert to like three of four (there is already three so this looks good)\n",
    "# do something with the e's "
   ]
  },
  {
   "cell_type": "code",
   "execution_count": 2,
   "id": "92013e36-b2d0-4e4c-8d70-93444fd96fd7",
   "metadata": {},
   "outputs": [
    {
     "name": "stdout",
     "output_type": "stream",
     "text": [
      "         Year       County                   Hospital    OSHPDID  \\\n",
      "92  2011-2012  Los Angeles          Alhambra Hospital  106190017   \n",
      "93  2011-2012  Los Angeles          Alhambra Hospital  106190017   \n",
      "94  2011-2012  Los Angeles   Antelope Valley Hospital  106190034   \n",
      "95  2011-2012  Los Angeles   Antelope Valley Hospital  106190034   \n",
      "96  2011-2012  Los Angeles  Saint Mary Medical Center  106190053   \n",
      "\n",
      "               Measure  Risk Adjusted Rate  # of Deaths/Readmissions  \\\n",
      "92  30-day Readmission               10.40                      12.0   \n",
      "93    30-day Mortality                4.63                       5.0   \n",
      "94  30-day Readmission               14.61                      61.0   \n",
      "95    30-day Mortality               12.32                      41.0   \n",
      "96  30-day Readmission               11.55                      26.0   \n",
      "\n",
      "    # of Cases Hospital Ratings                  Location 1  \n",
      "92        96.0      As Expected       (34.08988, -118.1449)  \n",
      "93       100.0      As Expected       (34.08988, -118.1449)  \n",
      "94       414.0      As Expected      (34.68928, -118.15767)  \n",
      "95       431.0      As Expected      (34.68928, -118.15767)  \n",
      "96       189.0      As Expected  (33.7802376, -118.1866412)  \n"
     ]
    }
   ],
   "source": [
    "print(subset_df.head())"
   ]
  },
  {
   "cell_type": "code",
   "execution_count": 3,
   "id": "c8d3a6ba-2921-4251-9f7e-07a88e11a958",
   "metadata": {},
   "outputs": [],
   "source": [
    "# Cleaning the Data\n",
    "\n",
    "subset_df.loc[:, 'Measure'] = subset_df['Measure'].str.replace('30-day ', '')\n",
    "\n",
    "subset_df.loc[:, '# of Cases'] = pd.to_numeric(subset_df['# of Cases'], errors='coerce')\n",
    "subset_df.loc[:, '# of Deaths/Readmissions'] = pd.to_numeric(subset_df['# of Deaths/Readmissions'], errors='coerce')"
   ]
  },
  {
   "cell_type": "code",
   "execution_count": 4,
   "id": "a0d2b2a1-1281-4da5-858b-6fc54adad159",
   "metadata": {},
   "outputs": [
    {
     "data": {
      "text/html": [
       "<div>\n",
       "<style scoped>\n",
       "    .dataframe tbody tr th:only-of-type {\n",
       "        vertical-align: middle;\n",
       "    }\n",
       "\n",
       "    .dataframe tbody tr th {\n",
       "        vertical-align: top;\n",
       "    }\n",
       "\n",
       "    .dataframe thead th {\n",
       "        text-align: right;\n",
       "    }\n",
       "</style>\n",
       "<table border=\"1\" class=\"dataframe\">\n",
       "  <thead>\n",
       "    <tr style=\"text-align: right;\">\n",
       "      <th></th>\n",
       "      <th>Year</th>\n",
       "      <th>County</th>\n",
       "      <th>Hospital</th>\n",
       "      <th>OSHPDID</th>\n",
       "      <th>Measure</th>\n",
       "      <th>Risk Adjusted Rate</th>\n",
       "      <th># of Deaths/Readmissions</th>\n",
       "      <th># of Cases</th>\n",
       "      <th>Hospital Ratings</th>\n",
       "      <th>Location 1</th>\n",
       "    </tr>\n",
       "  </thead>\n",
       "  <tbody>\n",
       "    <tr>\n",
       "      <th>92</th>\n",
       "      <td>2011-2012</td>\n",
       "      <td>Los Angeles</td>\n",
       "      <td>Alhambra Hospital</td>\n",
       "      <td>106190017</td>\n",
       "      <td>Readmission</td>\n",
       "      <td>10.40</td>\n",
       "      <td>12.0</td>\n",
       "      <td>96.0</td>\n",
       "      <td>As Expected</td>\n",
       "      <td>(34.08988, -118.1449)</td>\n",
       "    </tr>\n",
       "    <tr>\n",
       "      <th>93</th>\n",
       "      <td>2011-2012</td>\n",
       "      <td>Los Angeles</td>\n",
       "      <td>Alhambra Hospital</td>\n",
       "      <td>106190017</td>\n",
       "      <td>Mortality</td>\n",
       "      <td>4.63</td>\n",
       "      <td>5.0</td>\n",
       "      <td>100.0</td>\n",
       "      <td>As Expected</td>\n",
       "      <td>(34.08988, -118.1449)</td>\n",
       "    </tr>\n",
       "    <tr>\n",
       "      <th>94</th>\n",
       "      <td>2011-2012</td>\n",
       "      <td>Los Angeles</td>\n",
       "      <td>Antelope Valley Hospital</td>\n",
       "      <td>106190034</td>\n",
       "      <td>Readmission</td>\n",
       "      <td>14.61</td>\n",
       "      <td>61.0</td>\n",
       "      <td>414.0</td>\n",
       "      <td>As Expected</td>\n",
       "      <td>(34.68928, -118.15767)</td>\n",
       "    </tr>\n",
       "    <tr>\n",
       "      <th>95</th>\n",
       "      <td>2011-2012</td>\n",
       "      <td>Los Angeles</td>\n",
       "      <td>Antelope Valley Hospital</td>\n",
       "      <td>106190034</td>\n",
       "      <td>Mortality</td>\n",
       "      <td>12.32</td>\n",
       "      <td>41.0</td>\n",
       "      <td>431.0</td>\n",
       "      <td>As Expected</td>\n",
       "      <td>(34.68928, -118.15767)</td>\n",
       "    </tr>\n",
       "    <tr>\n",
       "      <th>96</th>\n",
       "      <td>2011-2012</td>\n",
       "      <td>Los Angeles</td>\n",
       "      <td>Saint Mary Medical Center</td>\n",
       "      <td>106190053</td>\n",
       "      <td>Readmission</td>\n",
       "      <td>11.55</td>\n",
       "      <td>26.0</td>\n",
       "      <td>189.0</td>\n",
       "      <td>As Expected</td>\n",
       "      <td>(33.7802376, -118.1866412)</td>\n",
       "    </tr>\n",
       "  </tbody>\n",
       "</table>\n",
       "</div>"
      ],
      "text/plain": [
       "         Year       County                   Hospital    OSHPDID      Measure  \\\n",
       "92  2011-2012  Los Angeles          Alhambra Hospital  106190017  Readmission   \n",
       "93  2011-2012  Los Angeles          Alhambra Hospital  106190017    Mortality   \n",
       "94  2011-2012  Los Angeles   Antelope Valley Hospital  106190034  Readmission   \n",
       "95  2011-2012  Los Angeles   Antelope Valley Hospital  106190034    Mortality   \n",
       "96  2011-2012  Los Angeles  Saint Mary Medical Center  106190053  Readmission   \n",
       "\n",
       "    Risk Adjusted Rate  # of Deaths/Readmissions  # of Cases Hospital Ratings  \\\n",
       "92               10.40                      12.0        96.0      As Expected   \n",
       "93                4.63                       5.0       100.0      As Expected   \n",
       "94               14.61                      61.0       414.0      As Expected   \n",
       "95               12.32                      41.0       431.0      As Expected   \n",
       "96               11.55                      26.0       189.0      As Expected   \n",
       "\n",
       "                    Location 1  \n",
       "92       (34.08988, -118.1449)  \n",
       "93       (34.08988, -118.1449)  \n",
       "94      (34.68928, -118.15767)  \n",
       "95      (34.68928, -118.15767)  \n",
       "96  (33.7802376, -118.1866412)  "
      ]
     },
     "execution_count": 4,
     "metadata": {},
     "output_type": "execute_result"
    }
   ],
   "source": [
    "import numpy as np \n",
    "\n",
    "subset_df.head()"
   ]
  },
  {
   "cell_type": "code",
   "execution_count": 5,
   "id": "f1e6494b-38f2-439e-887b-4f3f8c9e6971",
   "metadata": {},
   "outputs": [],
   "source": [
    "subset_df=subset_df.loc[:, ['Year','County', 'Hospital','OSHPDID','Measure','Risk Adjusted Rate','# of Deaths/Readmissions','# of Cases','Hospital Ratings']]"
   ]
  },
  {
   "cell_type": "code",
   "execution_count": 6,
   "id": "973699ee-8efd-4270-bfda-89f6b4149855",
   "metadata": {},
   "outputs": [
    {
     "data": {
      "text/plain": [
       "array(['As Expected', 'Worse', 'Better', nan], dtype=object)"
      ]
     },
     "execution_count": 6,
     "metadata": {},
     "output_type": "execute_result"
    }
   ],
   "source": [
    "subset_df['Hospital Ratings'].unique()"
   ]
  },
  {
   "cell_type": "code",
   "execution_count": null,
   "id": "1611aa98-cddd-4364-aeba-862b111c0c01",
   "metadata": {},
   "outputs": [],
   "source": []
  },
  {
   "cell_type": "code",
   "execution_count": 7,
   "id": "66b1efc1-0212-4eab-9c0f-3b201cfe7f0f",
   "metadata": {},
   "outputs": [
    {
     "data": {
      "text/html": [
       "<div>\n",
       "<style scoped>\n",
       "    .dataframe tbody tr th:only-of-type {\n",
       "        vertical-align: middle;\n",
       "    }\n",
       "\n",
       "    .dataframe tbody tr th {\n",
       "        vertical-align: top;\n",
       "    }\n",
       "\n",
       "    .dataframe thead th {\n",
       "        text-align: right;\n",
       "    }\n",
       "</style>\n",
       "<table border=\"1\" class=\"dataframe\">\n",
       "  <thead>\n",
       "    <tr style=\"text-align: right;\">\n",
       "      <th></th>\n",
       "      <th>Year</th>\n",
       "      <th>County</th>\n",
       "      <th>Hospital</th>\n",
       "      <th>OSHPDID</th>\n",
       "      <th>Measure</th>\n",
       "      <th>Risk Adjusted Rate</th>\n",
       "      <th># of Deaths/Readmissions</th>\n",
       "      <th># of Cases</th>\n",
       "      <th>Hospital Ratings</th>\n",
       "    </tr>\n",
       "  </thead>\n",
       "  <tbody>\n",
       "    <tr>\n",
       "      <th>92</th>\n",
       "      <td>2011</td>\n",
       "      <td>Los Angeles</td>\n",
       "      <td>Alhambra Hospital</td>\n",
       "      <td>106190017</td>\n",
       "      <td>Readmission</td>\n",
       "      <td>10.40</td>\n",
       "      <td>12.0</td>\n",
       "      <td>96.0</td>\n",
       "      <td>As Expected</td>\n",
       "    </tr>\n",
       "    <tr>\n",
       "      <th>93</th>\n",
       "      <td>2011</td>\n",
       "      <td>Los Angeles</td>\n",
       "      <td>Alhambra Hospital</td>\n",
       "      <td>106190017</td>\n",
       "      <td>Mortality</td>\n",
       "      <td>4.63</td>\n",
       "      <td>5.0</td>\n",
       "      <td>100.0</td>\n",
       "      <td>As Expected</td>\n",
       "    </tr>\n",
       "    <tr>\n",
       "      <th>94</th>\n",
       "      <td>2011</td>\n",
       "      <td>Los Angeles</td>\n",
       "      <td>Antelope Valley Hospital</td>\n",
       "      <td>106190034</td>\n",
       "      <td>Readmission</td>\n",
       "      <td>14.61</td>\n",
       "      <td>61.0</td>\n",
       "      <td>414.0</td>\n",
       "      <td>As Expected</td>\n",
       "    </tr>\n",
       "    <tr>\n",
       "      <th>95</th>\n",
       "      <td>2011</td>\n",
       "      <td>Los Angeles</td>\n",
       "      <td>Antelope Valley Hospital</td>\n",
       "      <td>106190034</td>\n",
       "      <td>Mortality</td>\n",
       "      <td>12.32</td>\n",
       "      <td>41.0</td>\n",
       "      <td>431.0</td>\n",
       "      <td>As Expected</td>\n",
       "    </tr>\n",
       "    <tr>\n",
       "      <th>96</th>\n",
       "      <td>2011</td>\n",
       "      <td>Los Angeles</td>\n",
       "      <td>Saint Mary Medical Center</td>\n",
       "      <td>106190053</td>\n",
       "      <td>Readmission</td>\n",
       "      <td>11.55</td>\n",
       "      <td>26.0</td>\n",
       "      <td>189.0</td>\n",
       "      <td>As Expected</td>\n",
       "    </tr>\n",
       "  </tbody>\n",
       "</table>\n",
       "</div>"
      ],
      "text/plain": [
       "    Year       County                   Hospital    OSHPDID      Measure  \\\n",
       "92  2011  Los Angeles          Alhambra Hospital  106190017  Readmission   \n",
       "93  2011  Los Angeles          Alhambra Hospital  106190017    Mortality   \n",
       "94  2011  Los Angeles   Antelope Valley Hospital  106190034  Readmission   \n",
       "95  2011  Los Angeles   Antelope Valley Hospital  106190034    Mortality   \n",
       "96  2011  Los Angeles  Saint Mary Medical Center  106190053  Readmission   \n",
       "\n",
       "    Risk Adjusted Rate  # of Deaths/Readmissions  # of Cases Hospital Ratings  \n",
       "92               10.40                      12.0        96.0      As Expected  \n",
       "93                4.63                       5.0       100.0      As Expected  \n",
       "94               14.61                      61.0       414.0      As Expected  \n",
       "95               12.32                      41.0       431.0      As Expected  \n",
       "96               11.55                      26.0       189.0      As Expected  "
      ]
     },
     "execution_count": 7,
     "metadata": {},
     "output_type": "execute_result"
    }
   ],
   "source": [
    "subset_df['Start'] = subset_df['Year'].str.split('-').str[0]\n",
    "subset_df['Year']=subset_df['Start']\n",
    "subset_df = subset_df.drop('Start',axis=1)\n",
    "\n",
    "subset_df['Year'] = pd.to_numeric(subset_df['Year'], errors='coerce')\n",
    "subset_df.head()"
   ]
  },
  {
   "cell_type": "code",
   "execution_count": 8,
   "id": "d788b10d-271b-4b32-bc8c-b391a85b5356",
   "metadata": {},
   "outputs": [
    {
     "data": {
      "text/plain": [
       "Year                          int64\n",
       "County                       object\n",
       "Hospital                     object\n",
       "OSHPDID                      object\n",
       "Measure                      object\n",
       "Risk Adjusted Rate          float64\n",
       "# of Deaths/Readmissions    float64\n",
       "# of Cases                  float64\n",
       "Hospital Ratings             object\n",
       "dtype: object"
      ]
     },
     "execution_count": 8,
     "metadata": {},
     "output_type": "execute_result"
    }
   ],
   "source": [
    "subset_df.dtypes\n"
   ]
  },
  {
   "cell_type": "code",
   "execution_count": 10,
   "id": "6dd648df-875d-4171-b230-e4e2adc20bbf",
   "metadata": {},
   "outputs": [
    {
     "data": {
      "text/plain": [
       "(1026, 9)"
      ]
     },
     "execution_count": 10,
     "metadata": {},
     "output_type": "execute_result"
    }
   ],
   "source": [
    "subset_df.describe()\n",
    "subset_df.shape"
   ]
  },
  {
   "cell_type": "code",
   "execution_count": 11,
   "id": "3ff8b60b-069a-4cdc-8394-dbde1abd6b36",
   "metadata": {},
   "outputs": [
    {
     "data": {
      "text/html": [
       "<div>\n",
       "<style scoped>\n",
       "    .dataframe tbody tr th:only-of-type {\n",
       "        vertical-align: middle;\n",
       "    }\n",
       "\n",
       "    .dataframe tbody tr th {\n",
       "        vertical-align: top;\n",
       "    }\n",
       "\n",
       "    .dataframe thead th {\n",
       "        text-align: right;\n",
       "    }\n",
       "</style>\n",
       "<table border=\"1\" class=\"dataframe\">\n",
       "  <thead>\n",
       "    <tr style=\"text-align: right;\">\n",
       "      <th></th>\n",
       "      <th>Year</th>\n",
       "      <th>Risk Adjusted Rate</th>\n",
       "      <th># of Deaths/Readmissions</th>\n",
       "      <th># of Cases</th>\n",
       "    </tr>\n",
       "  </thead>\n",
       "  <tbody>\n",
       "    <tr>\n",
       "      <th>count</th>\n",
       "      <td>1026.000000</td>\n",
       "      <td>1023.000000</td>\n",
       "      <td>1023.000000</td>\n",
       "      <td>1023.000000</td>\n",
       "    </tr>\n",
       "    <tr>\n",
       "      <th>mean</th>\n",
       "      <td>2012.475634</td>\n",
       "      <td>11.310323</td>\n",
       "      <td>95.058651</td>\n",
       "      <td>213.074291</td>\n",
       "    </tr>\n",
       "    <tr>\n",
       "      <th>std</th>\n",
       "      <td>1.113943</td>\n",
       "      <td>3.763209</td>\n",
       "      <td>153.413644</td>\n",
       "      <td>197.595166</td>\n",
       "    </tr>\n",
       "    <tr>\n",
       "      <th>min</th>\n",
       "      <td>2011.000000</td>\n",
       "      <td>0.000000</td>\n",
       "      <td>0.000000</td>\n",
       "      <td>1.000000</td>\n",
       "    </tr>\n",
       "    <tr>\n",
       "      <th>25%</th>\n",
       "      <td>2011.000000</td>\n",
       "      <td>9.065000</td>\n",
       "      <td>15.000000</td>\n",
       "      <td>51.000000</td>\n",
       "    </tr>\n",
       "    <tr>\n",
       "      <th>50%</th>\n",
       "      <td>2012.000000</td>\n",
       "      <td>11.440000</td>\n",
       "      <td>37.000000</td>\n",
       "      <td>149.000000</td>\n",
       "    </tr>\n",
       "    <tr>\n",
       "      <th>75%</th>\n",
       "      <td>2013.000000</td>\n",
       "      <td>13.685000</td>\n",
       "      <td>73.500000</td>\n",
       "      <td>344.500000</td>\n",
       "    </tr>\n",
       "    <tr>\n",
       "      <th>max</th>\n",
       "      <td>2014.000000</td>\n",
       "      <td>27.650000</td>\n",
       "      <td>969.000000</td>\n",
       "      <td>887.000000</td>\n",
       "    </tr>\n",
       "  </tbody>\n",
       "</table>\n",
       "</div>"
      ],
      "text/plain": [
       "              Year  Risk Adjusted Rate  # of Deaths/Readmissions   # of Cases\n",
       "count  1026.000000         1023.000000               1023.000000  1023.000000\n",
       "mean   2012.475634           11.310323                 95.058651   213.074291\n",
       "std       1.113943            3.763209                153.413644   197.595166\n",
       "min    2011.000000            0.000000                  0.000000     1.000000\n",
       "25%    2011.000000            9.065000                 15.000000    51.000000\n",
       "50%    2012.000000           11.440000                 37.000000   149.000000\n",
       "75%    2013.000000           13.685000                 73.500000   344.500000\n",
       "max    2014.000000           27.650000                969.000000   887.000000"
      ]
     },
     "execution_count": 11,
     "metadata": {},
     "output_type": "execute_result"
    }
   ],
   "source": [
    "subset_df.describe()"
   ]
  },
  {
   "cell_type": "code",
   "execution_count": 12,
   "id": "a239dff6-d0c1-4189-b992-e24ab2475d56",
   "metadata": {},
   "outputs": [
    {
     "data": {
      "image/png": "[encoded data removed]",
      "text/plain": [
       "<Figure size 640x480 with 1 Axes>"
      ]
     },
     "metadata": {},
     "output_type": "display_data"
    }
   ],
   "source": [
    "import matplotlib.pyplot as plt\n",
    "\n",
    "subset_df['Risk Adjusted Rate'].plot(kind='box')\n",
    "plt.show()\n"
   ]
  },
  {
   "cell_type": "code",
   "execution_count": 14,
   "id": "72df8535-5dcc-476b-83d8-2fd2cc3961a3",
   "metadata": {},
   "outputs": [
    {
     "data": {
      "image/png": "[encoded data removed]",
      "text/plain": [
       "<Figure size 640x480 with 1 Axes>"
      ]
     },
     "metadata": {},
     "output_type": "display_data"
    }
   ],
   "source": [
    "subset_df['# of Deaths/Readmissions'].plot(kind='box')\n",
    "plt.show()\n"
   ]
  },
  {
   "cell_type": "code",
   "execution_count": 15,
   "id": "77dce836-ab7f-4401-8bf6-7aa69803752b",
   "metadata": {},
   "outputs": [
    {
     "data": {
      "image/png": "[encoded data removed]",
      "text/plain": [
       "<Figure size 640x480 with 1 Axes>"
      ]
     },
     "metadata": {},
     "output_type": "display_data"
    }
   ],
   "source": [
    "subset_df['# of Cases'].plot(kind='box')\n",
    "plt.show()\n"
   ]
  },
  {
   "cell_type": "code",
   "execution_count": null,
   "id": "a4185ba1-4bbe-4b0d-92b4-31a912a024cc",
   "metadata": {},
   "outputs": [],
   "source": []
  },
  {
   "cell_type": "code",
   "execution_count": null,
   "id": "f30f5ae8-8de6-4dee-96be-2f32e872b5f2",
   "metadata": {},
   "outputs": [],
   "source": []
  }
 ],
 "metadata": {
  "kernelspec": {
   "display_name": "Python [conda env:base] *",
   "language": "python",
   "name": "conda-base-py"
  },
  "language_info": {
   "codemirror_mode": {
    "name": "ipython",
    "version": 3
   },
   "file_extension": ".py",
   "mimetype": "text/x-python",
   "name": "python",
   "nbconvert_exporter": "python",
   "pygments_lexer": "ipython3",
   "version": "3.13.5"
  }
 },
 "nbformat": 4,
 "nbformat_minor": 5
}
